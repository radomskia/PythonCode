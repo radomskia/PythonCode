{
  "nbformat": 4,
  "nbformat_minor": 0,
  "metadata": {
    "colab": {
      "name": " NLP2.ipynb",
      "provenance": [],
      "collapsed_sections": [],
      "authorship_tag": "ABX9TyOFJBJ2CINGCDmsH5B25Y8T",
      "include_colab_link": true
    },
    "kernelspec": {
      "name": "python3",
      "display_name": "Python 3"
    }
  },
  "cells": [
    {
      "cell_type": "markdown",
      "metadata": {
        "id": "view-in-github",
        "colab_type": "text"
      },
      "source": [
        "<a href=\"https://colab.research.google.com/github/radomskia/PythonCode/blob/master/NLP2.ipynb\" target=\"_parent\"><img src=\"https://colab.research.google.com/assets/colab-badge.svg\" alt=\"Open In Colab\"/></a>"
      ]
    },
    {
      "cell_type": "code",
      "metadata": {
        "id": "1C6y_OV0WUNf"
      },
      "source": [
        "from textblob import TextBlob\r\n",
        "from textblob import Word\r\n",
        "from textblob.sentiments import NaiveBayesAnalyzer\r\n",
        "import nltk\r\n",
        "nltk.download('movie_reviews')\r\n",
        "nltk.download('punkt')\r\n",
        "\r\n",
        "\r\n",
        "tekst = (\"Vice President Biden, Mr. Chief Justice, Members of the United States Congress, distinguished guests, and fellow citizens\"\r\n",
        "\r\n",
        "\"each time we gather to inaugurate a President we bear witness to the enduring strength of our Constitution. We affirm the promise of our democracy. We recall that what binds this Nation together is not the colors of our skin or the tenets of our faith or the origins of our names. What makes us exceptional—what makes us American—is our allegiance to an idea articulated in a declaration made more than two centuries ago:\"\r\n",
        "\r\n",
        "\"we hold these truths to be self-evident, that all men are created equal; that they are endowed by their Creator with certain unalienable rights; that among these are life, liberty, and the pursuit of happiness\"\r\n",
        "\r\n",
        "\"today we continue a never-ending journey to bridge the meaning of those words with the realities of our time. For history tells us that while these truths may be self-evident, they've never been self-executing; that while freedom is a gift from God, it must be secured by His people here on Earth. The patriots of 1776 did not fight to replace the tyranny of a king with the privileges of a few or the rule of a mob. They gave to us a republic, a government of and by and for the people, entrusting each generation to keep safe our founding creed\")\r\n",
        "\r\n",
        "\r\n",
        "\r\n",
        "blob = TextBlob(tekst, analyzer=NaiveBayesAnalyzer())\r\n",
        "blob\r\n",
        "blob.sentiment\r\n",
        "blob.word_counts['vice']"
      ],
      "execution_count": null,
      "outputs": []
    },
    {
      "cell_type": "code",
      "metadata": {
        "id": "vEcJtkGkL5_q"
      },
      "source": [
        "pip install textatistic\r\n",
        "blob = TextBlob(Path(\"Obama.txt\").read_text())\r\n",
        "from textblob import TextBlob\r\n",
        "from textblob import Word\r\n",
        "from textblob.sentiments import NaiveBayesAnalyzer\r\n",
        "import nltk\r\n",
        "nltk.download('movie_reviews')\r\n",
        "nltk.download('punkt')\r\n",
        "from pathlib import Path\r\n",
        "blob.sentiment\r\n",
        "from pathlib import Path\r\n",
        "tekst = Path(\"Obama.txt\").read_text()\r\n",
        "from textatistic import Textatistic\r\n",
        "readibility = Textatistic\r\n",
        "%precision 3\r\n",
        "readibility.dict()\r\n",
        "\r\n",
        "\r\n",
        "\r\n"
      ],
      "execution_count": null,
      "outputs": []
    },
    {
      "cell_type": "code",
      "metadata": {
        "colab": {
          "base_uri": "https://localhost:8080/"
        },
        "id": "DVwdY0QwTR_7",
        "outputId": "1d896558-499b-4d00-8720-487abdb2af7c"
      },
      "source": [
        "pip install textatistic"
      ],
      "execution_count": 17,
      "outputs": [
        {
          "output_type": "stream",
          "text": [
            "Collecting textatistic\n",
            "  Downloading https://files.pythonhosted.org/packages/73/f8/74dade1df8998ce9a42cba21b3cdf284f3f273e7e22fbcab27955d213e61/textatistic-0.0.1.tar.gz\n",
            "Collecting pyhyphen>=2.0.5\n",
            "  Downloading https://files.pythonhosted.org/packages/aa/e7/97ff5a575bd0744c67b28316fccbbcf180806bb89424df94fca9c1f6ea8c/PyHyphen-3.0.1.tar.gz\n",
            "Collecting appdirs\n",
            "  Downloading https://files.pythonhosted.org/packages/3b/00/2344469e2084fb287c2e0b57b72910309874c3245463acd6cf5e3db69324/appdirs-1.4.4-py2.py3-none-any.whl\n",
            "Requirement already satisfied: six in /usr/local/lib/python3.6/dist-packages (from pyhyphen>=2.0.5->textatistic) (1.15.0)\n",
            "Building wheels for collected packages: textatistic, pyhyphen\n",
            "  Building wheel for textatistic (setup.py) ... \u001b[?25l\u001b[?25hdone\n",
            "  Created wheel for textatistic: filename=textatistic-0.0.1-cp36-none-any.whl size=29057 sha256=07cd559b70c0c158a540357752f873e03a34ab947ff57f7de09b177d5fbf354b\n",
            "  Stored in directory: /root/.cache/pip/wheels/1d/ec/34/69c3cae349149cd91552c4c470efcbd08bbd21ba30b12e08ab\n",
            "  Building wheel for pyhyphen (setup.py) ... \u001b[?25l\u001b[?25hdone\n",
            "  Created wheel for pyhyphen: filename=PyHyphen-3.0.1-cp36-cp36m-linux_x86_64.whl size=57905 sha256=6f8326eac64283a8d09f8a7dcb6f54d100f26392ddcf4363e6895f1f614362eb\n",
            "  Stored in directory: /root/.cache/pip/wheels/85/46/93/46c556b5f054568b7470c86c4f76ea628a9a8bdf5a355b9c63\n",
            "Successfully built textatistic pyhyphen\n",
            "Installing collected packages: appdirs, pyhyphen, textatistic\n",
            "Successfully installed appdirs-1.4.4 pyhyphen-3.0.1 textatistic-0.0.1\n"
          ],
          "name": "stdout"
        }
      ]
    },
    {
      "cell_type": "code",
      "metadata": {
        "colab": {
          "base_uri": "https://localhost:8080/",
          "height": 103
        },
        "id": "qAz37FvOTcdB",
        "outputId": "2b9395b4-30cb-47f2-c016-456a04adf62a"
      },
      "source": [
        "blob = TextBlob(Path(\"Obama.txt\").read_text())\r\n",
        "from textblob import TextBlob\r\n",
        "from textblob import Word\r\n",
        "from textblob.sentiments import NaiveBayesAnalyzer\r\n",
        "import nltk\r\n",
        "nltk.download('movie_reviews')\r\n",
        "nltk.download('punkt')\r\n",
        "from pathlib import Path\r\n",
        "blob.sentiment\r\n",
        "from pathlib import Path\r\n",
        "tekst = Path(\"Obama.txt\").read_text()\r\n",
        "from textatistic import Textatistic\r\n",
        "readability = Textatistic(tekst)\r\n",
        "%precision 5\r\n"
      ],
      "execution_count": 25,
      "outputs": [
        {
          "output_type": "stream",
          "text": [
            "[nltk_data] Downloading package movie_reviews to /root/nltk_data...\n",
            "[nltk_data]   Package movie_reviews is already up-to-date!\n",
            "[nltk_data] Downloading package punkt to /root/nltk_data...\n",
            "[nltk_data]   Package punkt is already up-to-date!\n"
          ],
          "name": "stdout"
        },
        {
          "output_type": "execute_result",
          "data": {
            "application/vnd.google.colaboratory.intrinsic+json": {
              "type": "string"
            },
            "text/plain": [
              "'%.5f'"
            ]
          },
          "metadata": {
            "tags": []
          },
          "execution_count": 25
        }
      ]
    },
    {
      "cell_type": "code",
      "metadata": {
        "colab": {
          "base_uri": "https://localhost:8080/"
        },
        "id": "AWsJukvaT_85",
        "outputId": "2fe341ef-4c8e-4743-9669-aa3fb01e0862"
      },
      "source": [
        "readability.dict()"
      ],
      "execution_count": 26,
      "outputs": [
        {
          "output_type": "execute_result",
          "data": {
            "text/plain": [
              "{'char_count': 10943,\n",
              " 'dalechall_score': 7.28621,\n",
              " 'flesch_score': 75.46634,\n",
              " 'fleschkincaid_score': 7.61225,\n",
              " 'gunningfog_score': 10.34322,\n",
              " 'notdalechall_count': 406,\n",
              " 'polysyblword_count': 149,\n",
              " 'sent_count': 122,\n",
              " 'smog_score': 9.44243,\n",
              " 'sybl_count': 3156,\n",
              " 'word_count': 2396}"
            ]
          },
          "metadata": {
            "tags": []
          },
          "execution_count": 26
        }
      ]
    },
    {
      "cell_type": "code",
      "metadata": {
        "colab": {
          "base_uri": "https://localhost:8080/"
        },
        "id": "b0Hzemq8VOIM",
        "outputId": "511e026b-8fc8-4180-bfd1-61260625972a"
      },
      "source": [
        "pip install spaCy"
      ],
      "execution_count": 27,
      "outputs": [
        {
          "output_type": "stream",
          "text": [
            "Requirement already satisfied: spaCy in /usr/local/lib/python3.6/dist-packages (2.2.4)\n",
            "Requirement already satisfied: plac<1.2.0,>=0.9.6 in /usr/local/lib/python3.6/dist-packages (from spaCy) (1.1.3)\n",
            "Requirement already satisfied: srsly<1.1.0,>=1.0.2 in /usr/local/lib/python3.6/dist-packages (from spaCy) (1.0.5)\n",
            "Requirement already satisfied: catalogue<1.1.0,>=0.0.7 in /usr/local/lib/python3.6/dist-packages (from spaCy) (1.0.0)\n",
            "Requirement already satisfied: setuptools in /usr/local/lib/python3.6/dist-packages (from spaCy) (50.3.2)\n",
            "Requirement already satisfied: preshed<3.1.0,>=3.0.2 in /usr/local/lib/python3.6/dist-packages (from spaCy) (3.0.5)\n",
            "Requirement already satisfied: requests<3.0.0,>=2.13.0 in /usr/local/lib/python3.6/dist-packages (from spaCy) (2.23.0)\n",
            "Requirement already satisfied: murmurhash<1.1.0,>=0.28.0 in /usr/local/lib/python3.6/dist-packages (from spaCy) (1.0.5)\n",
            "Requirement already satisfied: blis<0.5.0,>=0.4.0 in /usr/local/lib/python3.6/dist-packages (from spaCy) (0.4.1)\n",
            "Requirement already satisfied: numpy>=1.15.0 in /usr/local/lib/python3.6/dist-packages (from spaCy) (1.19.4)\n",
            "Requirement already satisfied: wasabi<1.1.0,>=0.4.0 in /usr/local/lib/python3.6/dist-packages (from spaCy) (0.8.0)\n",
            "Requirement already satisfied: cymem<2.1.0,>=2.0.2 in /usr/local/lib/python3.6/dist-packages (from spaCy) (2.0.5)\n",
            "Requirement already satisfied: thinc==7.4.0 in /usr/local/lib/python3.6/dist-packages (from spaCy) (7.4.0)\n",
            "Requirement already satisfied: tqdm<5.0.0,>=4.38.0 in /usr/local/lib/python3.6/dist-packages (from spaCy) (4.41.1)\n",
            "Requirement already satisfied: importlib-metadata>=0.20; python_version < \"3.8\" in /usr/local/lib/python3.6/dist-packages (from catalogue<1.1.0,>=0.0.7->spaCy) (3.3.0)\n",
            "Requirement already satisfied: urllib3!=1.25.0,!=1.25.1,<1.26,>=1.21.1 in /usr/local/lib/python3.6/dist-packages (from requests<3.0.0,>=2.13.0->spaCy) (1.24.3)\n",
            "Requirement already satisfied: idna<3,>=2.5 in /usr/local/lib/python3.6/dist-packages (from requests<3.0.0,>=2.13.0->spaCy) (2.10)\n",
            "Requirement already satisfied: chardet<4,>=3.0.2 in /usr/local/lib/python3.6/dist-packages (from requests<3.0.0,>=2.13.0->spaCy) (3.0.4)\n",
            "Requirement already satisfied: certifi>=2017.4.17 in /usr/local/lib/python3.6/dist-packages (from requests<3.0.0,>=2.13.0->spaCy) (2020.12.5)\n",
            "Requirement already satisfied: typing-extensions>=3.6.4; python_version < \"3.8\" in /usr/local/lib/python3.6/dist-packages (from importlib-metadata>=0.20; python_version < \"3.8\"->catalogue<1.1.0,>=0.0.7->spaCy) (3.7.4.3)\n",
            "Requirement already satisfied: zipp>=0.5 in /usr/local/lib/python3.6/dist-packages (from importlib-metadata>=0.20; python_version < \"3.8\"->catalogue<1.1.0,>=0.0.7->spaCy) (3.4.0)\n"
          ],
          "name": "stdout"
        }
      ]
    },
    {
      "cell_type": "code",
      "metadata": {
        "id": "JqockkdoVxiJ"
      },
      "source": [
        "import spacy\r\n",
        "nlp = spacy.load(\"en\")"
      ],
      "execution_count": 28,
      "outputs": []
    },
    {
      "cell_type": "code",
      "metadata": {
        "id": "M7o8ddXAVupB"
      },
      "source": [
        ""
      ],
      "execution_count": null,
      "outputs": []
    },
    {
      "cell_type": "code",
      "metadata": {
        "colab": {
          "base_uri": "https://localhost:8080/"
        },
        "id": "AnY36zdhV9-7",
        "outputId": "61499509-04a0-4615-82b8-a938b48b8f8c"
      },
      "source": [
        "from pathlib import Path\r\n",
        "document1 = nlp(Path(\"Obama.txt\").read_text())\r\n",
        "document2 = nlp(Path(\"Donald.txt\").read_text())\r\n",
        "document1.similarity(document2)\r\n"
      ],
      "execution_count": 31,
      "outputs": [
        {
          "output_type": "stream",
          "text": [
            "/usr/lib/python3.6/runpy.py:193: ModelsWarning: [W007] The model you're using has no word vectors loaded, so the result of the Doc.similarity method will be based on the tagger, parser and NER, which may not give useful similarity judgements. This may happen if you're using one of the small models, e.g. `en_core_web_sm`, which don't ship with word vectors and only use context-sensitive tensors. You can always add your own word vectors, or use one of the larger models instead if available.\n",
            "  \"__main__\", mod_spec)\n"
          ],
          "name": "stderr"
        },
        {
          "output_type": "execute_result",
          "data": {
            "text/plain": [
              "0.98732"
            ]
          },
          "metadata": {
            "tags": []
          },
          "execution_count": 31
        }
      ]
    },
    {
      "cell_type": "markdown",
      "metadata": {
        "id": "vgOO9eWKK42p"
      },
      "source": [
        "# Nowa sekcja"
      ]
    },
    {
      "cell_type": "markdown",
      "metadata": {
        "id": "5MKMxwhTK5bh"
      },
      "source": [
        "# Nowa sekcja"
      ]
    }
  ]
}